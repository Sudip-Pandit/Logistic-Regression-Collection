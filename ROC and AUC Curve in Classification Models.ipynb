{
  "cells": [
    {
      "metadata": {},
      "cell_type": "markdown",
      "source": "### Problem Statement\nThe outcome of the logistic model depends on the probability. Identifying the thereshold value in logistic regression model is always challenging task. As per the rules, threshold value is always selected which error is minimum for a classifier as compared to errors get from the other classifiers. It means we need lowest error to find for better result. This project tries to explain the threshold value which best cutoff by analyzing the ROC and Auc curve on the basis of true positive rate and false positive rate. \n    Higher the tpr, better the model is. I tried to develop different classifiers and test the accuracy score along with confusion matrix and classification report. It also tries to get the best ROC curve to identify the best threshold value to classify the classification problem datasets."
    },
    {
      "metadata": {
        "trusted": true
      },
      "cell_type": "code",
      "source": "# import the libraries\nimport pandas as pd\nimport numpy as np\nimport seaborn as sns\nimport matplotlib.pyplot as plt\n%matplotlib inline\nimport warnings\nwarnings.filterwarnings('ignore')",
      "execution_count": 1,
      "outputs": []
    },
    {
      "metadata": {
        "trusted": true
      },
      "cell_type": "code",
      "source": "# import datasets\ndf=pd.read_csv('Logit-Simmons.csv')",
      "execution_count": 2,
      "outputs": []
    },
    {
      "metadata": {
        "trusted": true
      },
      "cell_type": "code",
      "source": "df.head()",
      "execution_count": 3,
      "outputs": [
        {
          "data": {
            "text/html": "<div>\n<style scoped>\n    .dataframe tbody tr th:only-of-type {\n        vertical-align: middle;\n    }\n\n    .dataframe tbody tr th {\n        vertical-align: top;\n    }\n\n    .dataframe thead th {\n        text-align: right;\n    }\n</style>\n<table border=\"1\" class=\"dataframe\">\n  <thead>\n    <tr style=\"text-align: right;\">\n      <th></th>\n      <th>Customer</th>\n      <th>Spending</th>\n      <th>Card</th>\n      <th>Purchase</th>\n    </tr>\n  </thead>\n  <tbody>\n    <tr>\n      <th>0</th>\n      <td>1</td>\n      <td>2.291</td>\n      <td>1</td>\n      <td>0</td>\n    </tr>\n    <tr>\n      <th>1</th>\n      <td>2</td>\n      <td>3.215</td>\n      <td>1</td>\n      <td>0</td>\n    </tr>\n    <tr>\n      <th>2</th>\n      <td>3</td>\n      <td>2.135</td>\n      <td>1</td>\n      <td>0</td>\n    </tr>\n    <tr>\n      <th>3</th>\n      <td>4</td>\n      <td>3.924</td>\n      <td>0</td>\n      <td>0</td>\n    </tr>\n    <tr>\n      <th>4</th>\n      <td>5</td>\n      <td>2.528</td>\n      <td>1</td>\n      <td>0</td>\n    </tr>\n  </tbody>\n</table>\n</div>",
            "text/plain": "   Customer  Spending  Card  Purchase\n0         1     2.291     1         0\n1         2     3.215     1         0\n2         3     2.135     1         0\n3         4     3.924     0         0\n4         5     2.528     1         0"
          },
          "execution_count": 3,
          "metadata": {},
          "output_type": "execute_result"
        }
      ]
    },
    {
      "metadata": {
        "trusted": true
      },
      "cell_type": "code",
      "source": "df.describe()",
      "execution_count": 4,
      "outputs": [
        {
          "data": {
            "text/html": "<div>\n<style scoped>\n    .dataframe tbody tr th:only-of-type {\n        vertical-align: middle;\n    }\n\n    .dataframe tbody tr th {\n        vertical-align: top;\n    }\n\n    .dataframe thead th {\n        text-align: right;\n    }\n</style>\n<table border=\"1\" class=\"dataframe\">\n  <thead>\n    <tr style=\"text-align: right;\">\n      <th></th>\n      <th>Customer</th>\n      <th>Spending</th>\n      <th>Card</th>\n      <th>Purchase</th>\n    </tr>\n  </thead>\n  <tbody>\n    <tr>\n      <th>count</th>\n      <td>100.000000</td>\n      <td>100.000000</td>\n      <td>100.000000</td>\n      <td>100.000000</td>\n    </tr>\n    <tr>\n      <th>mean</th>\n      <td>50.500000</td>\n      <td>3.333790</td>\n      <td>0.500000</td>\n      <td>0.400000</td>\n    </tr>\n    <tr>\n      <th>std</th>\n      <td>29.011492</td>\n      <td>1.741298</td>\n      <td>0.502519</td>\n      <td>0.492366</td>\n    </tr>\n    <tr>\n      <th>min</th>\n      <td>1.000000</td>\n      <td>1.058000</td>\n      <td>0.000000</td>\n      <td>0.000000</td>\n    </tr>\n    <tr>\n      <th>25%</th>\n      <td>25.750000</td>\n      <td>2.059000</td>\n      <td>0.000000</td>\n      <td>0.000000</td>\n    </tr>\n    <tr>\n      <th>50%</th>\n      <td>50.500000</td>\n      <td>2.805500</td>\n      <td>0.500000</td>\n      <td>0.000000</td>\n    </tr>\n    <tr>\n      <th>75%</th>\n      <td>75.250000</td>\n      <td>4.468250</td>\n      <td>1.000000</td>\n      <td>1.000000</td>\n    </tr>\n    <tr>\n      <th>max</th>\n      <td>100.000000</td>\n      <td>7.076000</td>\n      <td>1.000000</td>\n      <td>1.000000</td>\n    </tr>\n  </tbody>\n</table>\n</div>",
            "text/plain": "         Customer    Spending        Card    Purchase\ncount  100.000000  100.000000  100.000000  100.000000\nmean    50.500000    3.333790    0.500000    0.400000\nstd     29.011492    1.741298    0.502519    0.492366\nmin      1.000000    1.058000    0.000000    0.000000\n25%     25.750000    2.059000    0.000000    0.000000\n50%     50.500000    2.805500    0.500000    0.000000\n75%     75.250000    4.468250    1.000000    1.000000\nmax    100.000000    7.076000    1.000000    1.000000"
          },
          "execution_count": 4,
          "metadata": {},
          "output_type": "execute_result"
        }
      ]
    },
    {
      "metadata": {
        "trusted": true
      },
      "cell_type": "code",
      "source": "df['Card'].unique()",
      "execution_count": 5,
      "outputs": [
        {
          "data": {
            "text/plain": "array([1, 0], dtype=int64)"
          },
          "execution_count": 5,
          "metadata": {},
          "output_type": "execute_result"
        }
      ]
    },
    {
      "metadata": {
        "trusted": true
      },
      "cell_type": "code",
      "source": "df['Purchase'].unique()",
      "execution_count": 6,
      "outputs": [
        {
          "data": {
            "text/plain": "array([0, 1], dtype=int64)"
          },
          "execution_count": 6,
          "metadata": {},
          "output_type": "execute_result"
        }
      ]
    },
    {
      "metadata": {
        "trusted": true
      },
      "cell_type": "code",
      "source": "df['Purchase'].value_counts()",
      "execution_count": 7,
      "outputs": [
        {
          "data": {
            "text/plain": "0    60\n1    40\nName: Purchase, dtype: int64"
          },
          "execution_count": 7,
          "metadata": {},
          "output_type": "execute_result"
        }
      ]
    },
    {
      "metadata": {
        "trusted": true
      },
      "cell_type": "code",
      "source": "from sklearn import linear_model\nfrom sklearn.model_selection import train_test_split\nfrom sklearn.linear_model import LogisticRegression",
      "execution_count": 8,
      "outputs": []
    },
    {
      "metadata": {
        "trusted": true
      },
      "cell_type": "code",
      "source": "x=df[['Spending', 'Card']]",
      "execution_count": 9,
      "outputs": []
    },
    {
      "metadata": {
        "trusted": true
      },
      "cell_type": "code",
      "source": "y=df['Purchase'].values.reshape(-1,1)",
      "execution_count": 10,
      "outputs": []
    },
    {
      "metadata": {
        "trusted": true
      },
      "cell_type": "code",
      "source": "x_train, x_test, y_train, y_test=train_test_split(x, y, test_size=0.25, random_state=0)",
      "execution_count": 11,
      "outputs": []
    },
    {
      "metadata": {
        "trusted": true
      },
      "cell_type": "code",
      "source": "x_train.shape, x_test.shape, y_train.shape, y_test.shape",
      "execution_count": 12,
      "outputs": [
        {
          "data": {
            "text/plain": "((75, 2), (25, 2), (75, 1), (25, 1))"
          },
          "execution_count": 12,
          "metadata": {},
          "output_type": "execute_result"
        }
      ]
    },
    {
      "metadata": {
        "trusted": true
      },
      "cell_type": "code",
      "source": "# buipd a logistic model \nLreg=LogisticRegression(solver='lbfgs')\nLreg.fit(x_train, y_train.ravel())\n# ravel() returns 1D array with all the input-array elements",
      "execution_count": 13,
      "outputs": [
        {
          "data": {
            "text/plain": "LogisticRegression()"
          },
          "execution_count": 13,
          "metadata": {},
          "output_type": "execute_result"
        }
      ]
    },
    {
      "metadata": {
        "trusted": true
      },
      "cell_type": "code",
      "source": "y_pred=Lreg.predict(x_test)",
      "execution_count": 14,
      "outputs": []
    },
    {
      "metadata": {
        "trusted": true
      },
      "cell_type": "code",
      "source": "y_pred",
      "execution_count": 15,
      "outputs": [
        {
          "data": {
            "text/plain": "array([0, 1, 0, 0, 0, 1, 0, 0, 0, 0, 0, 1, 0, 0, 1, 0, 0, 0, 0, 0, 0, 0,\n       0, 0, 0], dtype=int64)"
          },
          "execution_count": 15,
          "metadata": {},
          "output_type": "execute_result"
        }
      ]
    },
    {
      "metadata": {
        "trusted": true
      },
      "cell_type": "code",
      "source": "y_pred_train=Lreg.predict(x_train)\ny_pred_train",
      "execution_count": 16,
      "outputs": [
        {
          "data": {
            "text/plain": "array([1, 0, 0, 0, 1, 0, 1, 0, 0, 0, 0, 0, 0, 0, 1, 0, 0, 0, 0, 0, 1, 0,\n       0, 0, 0, 0, 0, 0, 1, 0, 0, 0, 0, 0, 0, 0, 0, 0, 0, 0, 1, 1, 0, 1,\n       1, 1, 0, 0, 1, 0, 0, 0, 0, 0, 1, 0, 1, 1, 0, 0, 1, 0, 0, 1, 0, 0,\n       0, 0, 0, 0, 0, 0, 0, 0, 0], dtype=int64)"
          },
          "execution_count": 16,
          "metadata": {},
          "output_type": "execute_result"
        }
      ]
    },
    {
      "metadata": {
        "trusted": true
      },
      "cell_type": "code",
      "source": "# calculate probability of predicting data values\ny_prob_train=Lreg.predict_proba(x_train)[:,1]",
      "execution_count": 17,
      "outputs": []
    },
    {
      "metadata": {
        "trusted": true
      },
      "cell_type": "code",
      "source": "y_prob_train.reshape(-1,1).T",
      "execution_count": 18,
      "outputs": [
        {
          "data": {
            "text/plain": "array([[0.50646483, 0.24709179, 0.31412323, 0.35105713, 0.5140765 ,\n        0.41197527, 0.59892628, 0.26552713, 0.30318325, 0.24933228,\n        0.22799824, 0.28190041, 0.34744327, 0.22742756, 0.65044832,\n        0.41560677, 0.20611914, 0.30018444, 0.21567668, 0.36267507,\n        0.55402648, 0.43583458, 0.30318325, 0.17901064, 0.25250395,\n        0.31777966, 0.42374703, 0.34509262, 0.52929855, 0.20691679,\n        0.26162192, 0.30332038, 0.32265365, 0.22748458, 0.38807052,\n        0.33410385, 0.39356624, 0.24152025, 0.47435039, 0.33468167,\n        0.69042063, 0.58828012, 0.23236834, 0.57405248, 0.66686171,\n        0.54744263, 0.23785377, 0.47881348, 0.52072078, 0.37036008,\n        0.22799824, 0.23785377, 0.28315909, 0.31546258, 0.71342869,\n        0.19225132, 0.69827154, 0.63645317, 0.29321007, 0.2196553 ,\n        0.58307238, 0.30952729, 0.1982679 , 0.53528773, 0.37399968,\n        0.35528257, 0.26099553, 0.28170337, 0.47808469, 0.30952729,\n        0.35468814, 0.43583458, 0.24283048, 0.40491876, 0.32506007]])"
          },
          "execution_count": 18,
          "metadata": {},
          "output_type": "execute_result"
        }
      ]
    },
    {
      "metadata": {
        "trusted": true
      },
      "cell_type": "code",
      "source": "y_prob_test=Lreg.predict_proba(x_test)[:,1]\ny_prob_test.reshape(-1,1).T",
      "execution_count": 19,
      "outputs": [
        {
          "data": {
            "text/plain": "array([[0.47792275, 0.67274677, 0.33374297, 0.32763798, 0.43113282,\n        0.64258751, 0.18790516, 0.37399968, 0.30154962, 0.30765786,\n        0.42914424, 0.55604088, 0.41876283, 0.23312168, 0.60070735,\n        0.1796793 , 0.23138577, 0.43390982, 0.46336034, 0.26883103,\n        0.17668566, 0.39379862, 0.35104717, 0.34744327, 0.23138577]])"
          },
          "execution_count": 19,
          "metadata": {},
          "output_type": "execute_result"
        }
      ]
    },
    {
      "metadata": {
        "trusted": true
      },
      "cell_type": "code",
      "source": "# Now summary for logistic model\nimport statsmodels.api as sm\nx_constant= x1=sm.add_constant(x)\nlogit_model=sm.Logit(y, x1)\nresult=logit_model.fit()\nprint(result.summary())",
      "execution_count": 20,
      "outputs": [
        {
          "name": "stdout",
          "output_type": "stream",
          "text": "Optimization terminated successfully.\n         Current function value: 0.604869\n         Iterations 5\n                           Logit Regression Results                           \n==============================================================================\nDep. Variable:                      y   No. Observations:                  100\nModel:                          Logit   Df Residuals:                       97\nMethod:                           MLE   Df Model:                            2\nDate:                Sat, 16 Jan 2021   Pseudo R-squ.:                  0.1012\nTime:                        19:47:16   Log-Likelihood:                -60.487\nconverged:                       True   LL-Null:                       -67.301\nCovariance Type:            nonrobust   LLR p-value:                  0.001098\n==============================================================================\n                 coef    std err          z      P>|z|      [0.025      0.975]\n------------------------------------------------------------------------------\nconst         -2.1464      0.577     -3.718      0.000      -3.278      -1.015\nSpending       0.3416      0.129      2.655      0.008       0.089       0.594\nCard           1.0987      0.445      2.471      0.013       0.227       1.970\n==============================================================================\n"
        }
      ]
    },
    {
      "metadata": {
        "trusted": true
      },
      "cell_type": "code",
      "source": "from sklearn.metrics import classification_report, confusion_matrix, accuracy_score",
      "execution_count": 21,
      "outputs": []
    },
    {
      "metadata": {
        "trusted": true
      },
      "cell_type": "code",
      "source": "score=accuracy_score(y_test, y_pred)",
      "execution_count": 22,
      "outputs": []
    },
    {
      "metadata": {
        "trusted": true
      },
      "cell_type": "code",
      "source": "score",
      "execution_count": 23,
      "outputs": [
        {
          "data": {
            "text/plain": "0.6"
          },
          "execution_count": 23,
          "metadata": {},
          "output_type": "execute_result"
        }
      ]
    },
    {
      "metadata": {
        "trusted": true
      },
      "cell_type": "code",
      "source": "confusion_matrix(y_test, y_pred)",
      "execution_count": 24,
      "outputs": [
        {
          "data": {
            "text/plain": "array([[12,  1],\n       [ 9,  3]], dtype=int64)"
          },
          "execution_count": 24,
          "metadata": {},
          "output_type": "execute_result"
        }
      ]
    },
    {
      "metadata": {
        "trusted": true
      },
      "cell_type": "code",
      "source": "# generating classification report\nprint(classification_report(y_test, y_pred))",
      "execution_count": 25,
      "outputs": [
        {
          "name": "stdout",
          "output_type": "stream",
          "text": "              precision    recall  f1-score   support\n\n           0       0.57      0.92      0.71        13\n           1       0.75      0.25      0.38        12\n\n    accuracy                           0.60        25\n   macro avg       0.66      0.59      0.54        25\nweighted avg       0.66      0.60      0.55        25\n\n"
        }
      ]
    },
    {
      "metadata": {
        "trusted": true
      },
      "cell_type": "code",
      "source": "TN, FP, FN, TP=confusion_matrix(y_test, y_pred).ravel()",
      "execution_count": 26,
      "outputs": []
    },
    {
      "metadata": {
        "trusted": true
      },
      "cell_type": "code",
      "source": "print(\"True Negatives :\", TN)\nprint(\"False Positives :\", FP)\nprint(\"False Negatives :\", FN)\nprint(\"True Positives :\", TP)",
      "execution_count": 27,
      "outputs": [
        {
          "name": "stdout",
          "output_type": "stream",
          "text": "True Negatives : 12\nFalse Positives : 1\nFalse Negatives : 9\nTrue Positives : 3\n"
        }
      ]
    },
    {
      "metadata": {
        "trusted": true
      },
      "cell_type": "code",
      "source": "# Now calculate the specificity and sensitivity\nSpecificity =TN/(TN+FP)\nSpecificity",
      "execution_count": 28,
      "outputs": [
        {
          "data": {
            "text/plain": "0.9230769230769231"
          },
          "execution_count": 28,
          "metadata": {},
          "output_type": "execute_result"
        }
      ]
    },
    {
      "metadata": {
        "trusted": true
      },
      "cell_type": "code",
      "source": "Sensitivity =TP/(TP+FN)\nSensitivity",
      "execution_count": 29,
      "outputs": [
        {
          "data": {
            "text/plain": "0.25"
          },
          "execution_count": 29,
          "metadata": {},
          "output_type": "execute_result"
        }
      ]
    },
    {
      "metadata": {
        "trusted": true
      },
      "cell_type": "code",
      "source": "from sklearn.metrics import roc_auc_score\nfrom sklearn.metrics import roc_curve, auc",
      "execution_count": 30,
      "outputs": []
    },
    {
      "metadata": {
        "trusted": true
      },
      "cell_type": "code",
      "source": "#ROC Curve for trainning datasets\nlog_ROC_AUC1=roc_auc_score(y_train, y_pred_train)\nfpr1, tpr1, thresholds1=roc_curve(y_train, y_prob_train)\nroc_auc1=auc(fpr1, tpr1)",
      "execution_count": 31,
      "outputs": []
    },
    {
      "metadata": {
        "trusted": true
      },
      "cell_type": "code",
      "source": "plt.figure(figsize=(5,5))\nplt.plot(fpr1, tpr1, color='blue', label='ROC curve (area = %0.2f)' % roc_auc1)\nplt.plot([0,1], [0,1], 'r--')\nplt.xlim([0.0, 1.0])\nplt.ylim([0.0, 1.05])\nplt.xlabel('False Positive Rate')\nplt.ylabel('True Positive Rate')\nplt.title('ROC Example')\nplt.legend(loc=\"lower rights\")\nplt.show()",
      "execution_count": 32,
      "outputs": [
        {
          "data": {
            "image/png": "[encoded data removed]",
            "text/plain": "<Figure size 360x360 with 1 Axes>"
          },
          "metadata": {
            "needs_background": "light"
          },
          "output_type": "display_data"
        }
      ]
    },
    {
      "metadata": {
        "trusted": true
      },
      "cell_type": "code",
      "source": "#ROC Curve for testing datasets\nlog_ROC_AUC=roc_auc_score(y_test, y_pred)\nfpr, tpr, thresholds1=roc_curve(y_test, y_prob_test)\nroc_auc1=auc(fpr, tpr)",
      "execution_count": 33,
      "outputs": []
    },
    {
      "metadata": {
        "trusted": true
      },
      "cell_type": "code",
      "source": "plt.figure(figsize=(5,5))\nplt.plot(fpr, tpr, color='blue', label='ROC curve (area = %0.2f)' % roc_auc1)\nplt.plot([0,1], [0,1], 'r--')\nplt.xlim([0.0, 1.0])\nplt.ylim([0.0, 1.05])\nplt.xlabel('False Positive Rate')\nplt.ylabel('True Positive Rate')\nplt.title('ROC Example')\nplt.legend(loc=\"lower rights\")\nplt.show()",
      "execution_count": 34,
      "outputs": [
        {
          "data": {
            "image/png": "[encoded data removed]",
            "text/plain": "<Figure size 360x360 with 1 Axes>"
          },
          "metadata": {
            "needs_background": "light"
          },
          "output_type": "display_data"
        }
      ]
    },
    {
      "metadata": {},
      "cell_type": "markdown",
      "source": "### Random Forest Classifier"
    },
    {
      "metadata": {
        "trusted": true
      },
      "cell_type": "code",
      "source": "from sklearn.ensemble import RandomForestClassifier",
      "execution_count": 35,
      "outputs": []
    },
    {
      "metadata": {
        "trusted": true
      },
      "cell_type": "code",
      "source": "rfc=RandomForestClassifier(n_estimators=100)\nrfc.fit(x_train, y_train)",
      "execution_count": 36,
      "outputs": [
        {
          "data": {
            "text/plain": "RandomForestClassifier()"
          },
          "execution_count": 36,
          "metadata": {},
          "output_type": "execute_result"
        }
      ]
    },
    {
      "metadata": {
        "trusted": true
      },
      "cell_type": "code",
      "source": "y_pred1=rfc.predict(x_test)",
      "execution_count": 37,
      "outputs": []
    },
    {
      "metadata": {
        "trusted": true
      },
      "cell_type": "code",
      "source": "rfc_score=rfc.score(x_test, y_test)\nrfc_score",
      "execution_count": 38,
      "outputs": [
        {
          "data": {
            "text/plain": "0.64"
          },
          "execution_count": 38,
          "metadata": {},
          "output_type": "execute_result"
        }
      ]
    },
    {
      "metadata": {
        "trusted": true
      },
      "cell_type": "code",
      "source": "confusion_matrix(y_test, y_pred1)",
      "execution_count": 39,
      "outputs": [
        {
          "data": {
            "text/plain": "array([[9, 4],\n       [5, 7]], dtype=int64)"
          },
          "execution_count": 39,
          "metadata": {},
          "output_type": "execute_result"
        }
      ]
    },
    {
      "metadata": {
        "trusted": true
      },
      "cell_type": "code",
      "source": "print(classification_report(y_test, y_pred1))",
      "execution_count": 40,
      "outputs": [
        {
          "name": "stdout",
          "output_type": "stream",
          "text": "              precision    recall  f1-score   support\n\n           0       0.64      0.69      0.67        13\n           1       0.64      0.58      0.61        12\n\n    accuracy                           0.64        25\n   macro avg       0.64      0.64      0.64        25\nweighted avg       0.64      0.64      0.64        25\n\n"
        }
      ]
    },
    {
      "metadata": {
        "trusted": true
      },
      "cell_type": "code",
      "source": "log_ROC_AUC1=roc_auc_score(y_test, y_pred1)\nfpr2, tpr2, thresholds2=roc_curve(y_test, y_pred1)\nroc_auc2=auc(fpr2, tpr2)\nplt.figure(figsize=(5,5))\nplt.plot(fpr2, tpr2, color='blue', label='ROC curve (area = %0.2f)' % roc_auc2)\nplt.plot([0,1], [0,1], 'r--')\nplt.xlim([0.0, 1.0])\nplt.ylim([0.0, 1.05])\nplt.xlabel('False Positive Rate-2')\nplt.ylabel('True Positive Rate-2')\nplt.title('ROC Example2')\nplt.legend(loc=\"lower rights\")\nplt.show()",
      "execution_count": 41,
      "outputs": [
        {
          "data": {
            "image/png": "[encoded data removed]",
            "text/plain": "<Figure size 360x360 with 1 Axes>"
          },
          "metadata": {
            "needs_background": "light"
          },
          "output_type": "display_data"
        }
      ]
    },
    {
      "metadata": {},
      "cell_type": "markdown",
      "source": "### Build Gradient Boosting Classifier"
    },
    {
      "metadata": {
        "trusted": true
      },
      "cell_type": "code",
      "source": "from sklearn.ensemble import GradientBoostingClassifier",
      "execution_count": 42,
      "outputs": []
    },
    {
      "metadata": {
        "trusted": true
      },
      "cell_type": "code",
      "source": "gbc=GradientBoostingClassifier()\ngbc.fit(x_train, y_train)\ny_pred2=gbc.predict(x_test)",
      "execution_count": 43,
      "outputs": []
    },
    {
      "metadata": {
        "trusted": true
      },
      "cell_type": "code",
      "source": "gbc_score=gbc.score(x_test, y_test)\ngbc_score",
      "execution_count": 44,
      "outputs": [
        {
          "data": {
            "text/plain": "0.56"
          },
          "execution_count": 44,
          "metadata": {},
          "output_type": "execute_result"
        }
      ]
    },
    {
      "metadata": {
        "trusted": true
      },
      "cell_type": "code",
      "source": "confusion_matrix(y_test, y_pred2)",
      "execution_count": 45,
      "outputs": [
        {
          "data": {
            "text/plain": "array([[6, 7],\n       [4, 8]], dtype=int64)"
          },
          "execution_count": 45,
          "metadata": {},
          "output_type": "execute_result"
        }
      ]
    },
    {
      "metadata": {
        "trusted": true
      },
      "cell_type": "code",
      "source": "print(classification_report(y_test, y_pred2))",
      "execution_count": 46,
      "outputs": [
        {
          "name": "stdout",
          "output_type": "stream",
          "text": "              precision    recall  f1-score   support\n\n           0       0.60      0.46      0.52        13\n           1       0.53      0.67      0.59        12\n\n    accuracy                           0.56        25\n   macro avg       0.57      0.56      0.56        25\nweighted avg       0.57      0.56      0.56        25\n\n"
        }
      ]
    },
    {
      "metadata": {
        "trusted": true
      },
      "cell_type": "code",
      "source": "log_ROC_AUC2=roc_auc_score(y_test, y_pred2)\nfpr3, tpr3, thresholds3=roc_curve(y_test, y_pred2)\nroc_auc3=auc(fpr3, tpr3)\nplt.figure(figsize=(5,5))\nplt.plot(fpr3, tpr3, color='blue', label='ROC curve (area = %0.2f)' % roc_auc3)\nplt.plot([0,1], [0,1], 'r--')\nplt.xlim([0.0, 1.0])\nplt.ylim([0.0, 1.05])\nplt.xlabel('False Positive Rate-3')\nplt.ylabel('True Positive Rate-3')\nplt.title('ROC Example3')\nplt.legend(loc=\"lower rights\")\nplt.show()",
      "execution_count": 47,
      "outputs": [
        {
          "data": {
            "image/png": "[encoded data removed]",
            "text/plain": "<Figure size 360x360 with 1 Axes>"
          },
          "metadata": {
            "needs_background": "light"
          },
          "output_type": "display_data"
        }
      ]
    },
    {
      "metadata": {},
      "cell_type": "markdown",
      "source": "### SVM classifier"
    },
    {
      "metadata": {
        "trusted": true
      },
      "cell_type": "code",
      "source": "from sklearn.svm import SVC\nsvc=SVC(kernel='linear')",
      "execution_count": 48,
      "outputs": []
    },
    {
      "metadata": {
        "trusted": true
      },
      "cell_type": "code",
      "source": "svc.fit(x_train, y_train)",
      "execution_count": 49,
      "outputs": [
        {
          "data": {
            "text/plain": "SVC(kernel='linear')"
          },
          "execution_count": 49,
          "metadata": {},
          "output_type": "execute_result"
        }
      ]
    },
    {
      "metadata": {
        "trusted": true
      },
      "cell_type": "code",
      "source": "y_pred3=svc.predict(x_test)",
      "execution_count": 50,
      "outputs": []
    },
    {
      "metadata": {
        "trusted": true
      },
      "cell_type": "code",
      "source": "scv_score=svc.score(x_test, y_test)\nscv_score",
      "execution_count": 51,
      "outputs": [
        {
          "data": {
            "text/plain": "0.6"
          },
          "execution_count": 51,
          "metadata": {},
          "output_type": "execute_result"
        }
      ]
    },
    {
      "metadata": {
        "trusted": true
      },
      "cell_type": "code",
      "source": "confusion_matrix(y_test, y_pred3)",
      "execution_count": 52,
      "outputs": [
        {
          "data": {
            "text/plain": "array([[12,  1],\n       [ 9,  3]], dtype=int64)"
          },
          "execution_count": 52,
          "metadata": {},
          "output_type": "execute_result"
        }
      ]
    },
    {
      "metadata": {
        "trusted": true
      },
      "cell_type": "code",
      "source": "log_ROC_AUC3=roc_auc_score(y_test, y_pred3)\nfpr3, tpr3, thresholds3=roc_curve(y_test, y_pred3)\nroc_auc3=auc(fpr3, tpr3)\nplt.figure(figsize=(5,5))\nplt.plot(fpr3, tpr3, color='blue', label='ROC curve (area = %0.2f)' % roc_auc3)\nplt.plot([0,1], [0,1], 'r--')\nplt.xlim([0.0, 1.0])\nplt.ylim([0.0, 1.05])\nplt.xlabel('False Positive Rate-3')\nplt.ylabel('True Positive Rate-3')\nplt.title('ROC Example3')\nplt.legend(loc=\"lower rights\")\nplt.show()",
      "execution_count": 53,
      "outputs": [
        {
          "data": {
            "image/png": "[encoded data removed]",
            "text/plain": "<Figure size 360x360 with 1 Axes>"
          },
          "metadata": {
            "needs_background": "light"
          },
          "output_type": "display_data"
        }
      ]
    },
    {
      "metadata": {
        "trusted": true
      },
      "cell_type": "code",
      "source": "from sklearn.naive_bayes import GaussianNB\nnb_clf= GaussianNB()\nnb_clf.fit(x_train, y_train)\ny_pred4= nb_clf.predict(x_test)\nnb_score=nb_clf.score(x_test, y_test)\nnb_score",
      "execution_count": 54,
      "outputs": [
        {
          "data": {
            "text/plain": "0.6"
          },
          "execution_count": 54,
          "metadata": {},
          "output_type": "execute_result"
        }
      ]
    },
    {
      "metadata": {
        "trusted": true
      },
      "cell_type": "code",
      "source": "confusion_matrix(y_test, y_pred4)",
      "execution_count": 55,
      "outputs": [
        {
          "data": {
            "text/plain": "array([[12,  1],\n       [ 9,  3]], dtype=int64)"
          },
          "execution_count": 55,
          "metadata": {},
          "output_type": "execute_result"
        }
      ]
    },
    {
      "metadata": {
        "trusted": true
      },
      "cell_type": "code",
      "source": "log_ROC_AUC4=roc_auc_score(y_test, y_pred4)\nfpr4, tpr4, thresholds4=roc_curve(y_test, y_pred4)\nroc_auc4=auc(fpr4, tpr4)\nplt.figure(figsize=(5,5))\nplt.plot(fpr4, tpr4, color='blue', label='ROC curve (area = %0.2f)' % roc_auc4)\nplt.plot([0,1], [0,1], 'r--')\nplt.xlim([0.0, 1.0])\nplt.ylim([0.0, 1.05])\nplt.xlabel('False Positive Rate-4')\nplt.ylabel('True Positive Rate-43')\nplt.title('ROC Example4')\nplt.legend(loc=\"lower rights\")\nplt.show()",
      "execution_count": 56,
      "outputs": [
        {
          "data": {
            "image/png": "[encoded data removed]",
            "text/plain": "<Figure size 360x360 with 1 Axes>"
          },
          "metadata": {
            "needs_background": "light"
          },
          "output_type": "display_data"
        }
      ]
    }
  ],
  "metadata": {
    "_draft": {
      "nbviewer_url": "https://gist.github.com/0d89f5f98c12f137eb69c96ff23447be"
    },
    "gist": {
      "id": "0d89f5f98c12f137eb69c96ff23447be",
      "data": {
        "description": "Desktop/Logistic Regression/A Clear Understanding of Logistic Regression.ipynb",
        "public": true
      }
    },
    "kernelspec": {
      "name": "python3",
      "display_name": "Python 3",
      "language": "python"
    },
    "language_info": {
      "name": "python",
      "version": "3.8.3",
      "mimetype": "text/x-python",
      "codemirror_mode": {
        "name": "ipython",
        "version": 3
      },
      "pygments_lexer": "ipython3",
      "nbconvert_exporter": "python",
      "file_extension": ".py"
    }
  },
  "nbformat": 4,
  "nbformat_minor": 4
}