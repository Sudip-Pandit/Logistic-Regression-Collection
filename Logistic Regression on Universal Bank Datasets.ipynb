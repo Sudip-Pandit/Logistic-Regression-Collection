{
  "cells": [
    {
      "metadata": {
        "trusted": true
      },
      "cell_type": "code",
      "source": "# Import the libraries\nimport pandas as pd\nimport numpy as np\nimport matplotlib.pyplot as plt\nimport seaborn as sns\n%matplotlib inline\nimport warnings\nwarnings.filterwarnings('ignore')",
      "execution_count": 65,
      "outputs": []
    },
    {
      "metadata": {
        "trusted": true
      },
      "cell_type": "code",
      "source": "# import the datasets\nbankdata = pd.read_csv('UniversalBank.csv')\nbankdata.head()",
      "execution_count": 66,
      "outputs": [
        {
          "output_type": "execute_result",
          "execution_count": 66,
          "data": {
            "text/plain": "   ID  Age  Experience  Income  ZIP Code  Family  CCAvg  Education  Mortgage  \\\n0   1   25           1      49     91107       4    1.6          1         0   \n1   2   45          19      34     90089       3    1.5          1         0   \n2   3   39          15      11     94720       1    1.0          1         0   \n3   4   35           9     100     94112       1    2.7          2         0   \n4   5   35           8      45     91330       4    1.0          2         0   \n\n   Personal Loan  Securities Account  CD Account  Online  CreditCard  \n0              0                   1           0       0           0  \n1              0                   1           0       0           0  \n2              0                   0           0       0           0  \n3              0                   0           0       0           0  \n4              0                   0           0       0           1  ",
            "text/html": "<div>\n<style scoped>\n    .dataframe tbody tr th:only-of-type {\n        vertical-align: middle;\n    }\n\n    .dataframe tbody tr th {\n        vertical-align: top;\n    }\n\n    .dataframe thead th {\n        text-align: right;\n    }\n</style>\n<table border=\"1\" class=\"dataframe\">\n  <thead>\n    <tr style=\"text-align: right;\">\n      <th></th>\n      <th>ID</th>\n      <th>Age</th>\n      <th>Experience</th>\n      <th>Income</th>\n      <th>ZIP Code</th>\n      <th>Family</th>\n      <th>CCAvg</th>\n      <th>Education</th>\n      <th>Mortgage</th>\n      <th>Personal Loan</th>\n      <th>Securities Account</th>\n      <th>CD Account</th>\n      <th>Online</th>\n      <th>CreditCard</th>\n    </tr>\n  </thead>\n  <tbody>\n    <tr>\n      <th>0</th>\n      <td>1</td>\n      <td>25</td>\n      <td>1</td>\n      <td>49</td>\n      <td>91107</td>\n      <td>4</td>\n      <td>1.6</td>\n      <td>1</td>\n      <td>0</td>\n      <td>0</td>\n      <td>1</td>\n      <td>0</td>\n      <td>0</td>\n      <td>0</td>\n    </tr>\n    <tr>\n      <th>1</th>\n      <td>2</td>\n      <td>45</td>\n      <td>19</td>\n      <td>34</td>\n      <td>90089</td>\n      <td>3</td>\n      <td>1.5</td>\n      <td>1</td>\n      <td>0</td>\n      <td>0</td>\n      <td>1</td>\n      <td>0</td>\n      <td>0</td>\n      <td>0</td>\n    </tr>\n    <tr>\n      <th>2</th>\n      <td>3</td>\n      <td>39</td>\n      <td>15</td>\n      <td>11</td>\n      <td>94720</td>\n      <td>1</td>\n      <td>1.0</td>\n      <td>1</td>\n      <td>0</td>\n      <td>0</td>\n      <td>0</td>\n      <td>0</td>\n      <td>0</td>\n      <td>0</td>\n    </tr>\n    <tr>\n      <th>3</th>\n      <td>4</td>\n      <td>35</td>\n      <td>9</td>\n      <td>100</td>\n      <td>94112</td>\n      <td>1</td>\n      <td>2.7</td>\n      <td>2</td>\n      <td>0</td>\n      <td>0</td>\n      <td>0</td>\n      <td>0</td>\n      <td>0</td>\n      <td>0</td>\n    </tr>\n    <tr>\n      <th>4</th>\n      <td>5</td>\n      <td>35</td>\n      <td>8</td>\n      <td>45</td>\n      <td>91330</td>\n      <td>4</td>\n      <td>1.0</td>\n      <td>2</td>\n      <td>0</td>\n      <td>0</td>\n      <td>0</td>\n      <td>0</td>\n      <td>0</td>\n      <td>1</td>\n    </tr>\n  </tbody>\n</table>\n</div>"
          },
          "metadata": {}
        }
      ]
    },
    {
      "metadata": {
        "trusted": true
      },
      "cell_type": "code",
      "source": "bankdata.info()",
      "execution_count": 67,
      "outputs": [
        {
          "output_type": "stream",
          "text": "<class 'pandas.core.frame.DataFrame'>\nRangeIndex: 5000 entries, 0 to 4999\nData columns (total 14 columns):\n #   Column              Non-Null Count  Dtype  \n---  ------              --------------  -----  \n 0   ID                  5000 non-null   int64  \n 1   Age                 5000 non-null   int64  \n 2   Experience          5000 non-null   int64  \n 3   Income              5000 non-null   int64  \n 4   ZIP Code            5000 non-null   int64  \n 5   Family              5000 non-null   int64  \n 6   CCAvg               5000 non-null   float64\n 7   Education           5000 non-null   int64  \n 8   Mortgage            5000 non-null   int64  \n 9   Personal Loan       5000 non-null   int64  \n 10  Securities Account  5000 non-null   int64  \n 11  CD Account          5000 non-null   int64  \n 12  Online              5000 non-null   int64  \n 13  CreditCard          5000 non-null   int64  \ndtypes: float64(1), int64(13)\nmemory usage: 547.0 KB\n",
          "name": "stdout"
        }
      ]
    },
    {
      "metadata": {
        "trusted": true
      },
      "cell_type": "code",
      "source": "bankdata.describe()",
      "execution_count": 68,
      "outputs": [
        {
          "output_type": "execute_result",
          "execution_count": 68,
          "data": {
            "text/plain": "                ID          Age   Experience       Income      ZIP Code  \\\ncount  5000.000000  5000.000000  5000.000000  5000.000000   5000.000000   \nmean   2500.500000    45.338400    20.104600    73.774200  93152.503000   \nstd    1443.520003    11.463166    11.467954    46.033729   2121.852197   \nmin       1.000000    23.000000    -3.000000     8.000000   9307.000000   \n25%    1250.750000    35.000000    10.000000    39.000000  91911.000000   \n50%    2500.500000    45.000000    20.000000    64.000000  93437.000000   \n75%    3750.250000    55.000000    30.000000    98.000000  94608.000000   \nmax    5000.000000    67.000000    43.000000   224.000000  96651.000000   \n\n            Family        CCAvg    Education     Mortgage  Personal Loan  \\\ncount  5000.000000  5000.000000  5000.000000  5000.000000    5000.000000   \nmean      2.396400     1.937938     1.881000    56.498800       0.096000   \nstd       1.147663     1.747659     0.839869   101.713802       0.294621   \nmin       1.000000     0.000000     1.000000     0.000000       0.000000   \n25%       1.000000     0.700000     1.000000     0.000000       0.000000   \n50%       2.000000     1.500000     2.000000     0.000000       0.000000   \n75%       3.000000     2.500000     3.000000   101.000000       0.000000   \nmax       4.000000    10.000000     3.000000   635.000000       1.000000   \n\n       Securities Account  CD Account       Online   CreditCard  \ncount         5000.000000  5000.00000  5000.000000  5000.000000  \nmean             0.104400     0.06040     0.596800     0.294000  \nstd              0.305809     0.23825     0.490589     0.455637  \nmin              0.000000     0.00000     0.000000     0.000000  \n25%              0.000000     0.00000     0.000000     0.000000  \n50%              0.000000     0.00000     1.000000     0.000000  \n75%              0.000000     0.00000     1.000000     1.000000  \nmax              1.000000     1.00000     1.000000     1.000000  ",
            "text/html": "<div>\n<style scoped>\n    .dataframe tbody tr th:only-of-type {\n        vertical-align: middle;\n    }\n\n    .dataframe tbody tr th {\n        vertical-align: top;\n    }\n\n    .dataframe thead th {\n        text-align: right;\n    }\n</style>\n<table border=\"1\" class=\"dataframe\">\n  <thead>\n    <tr style=\"text-align: right;\">\n      <th></th>\n      <th>ID</th>\n      <th>Age</th>\n      <th>Experience</th>\n      <th>Income</th>\n      <th>ZIP Code</th>\n      <th>Family</th>\n      <th>CCAvg</th>\n      <th>Education</th>\n      <th>Mortgage</th>\n      <th>Personal Loan</th>\n      <th>Securities Account</th>\n      <th>CD Account</th>\n      <th>Online</th>\n      <th>CreditCard</th>\n    </tr>\n  </thead>\n  <tbody>\n    <tr>\n      <th>count</th>\n      <td>5000.000000</td>\n      <td>5000.000000</td>\n      <td>5000.000000</td>\n      <td>5000.000000</td>\n      <td>5000.000000</td>\n      <td>5000.000000</td>\n      <td>5000.000000</td>\n      <td>5000.000000</td>\n      <td>5000.000000</td>\n      <td>5000.000000</td>\n      <td>5000.000000</td>\n      <td>5000.00000</td>\n      <td>5000.000000</td>\n      <td>5000.000000</td>\n    </tr>\n    <tr>\n      <th>mean</th>\n      <td>2500.500000</td>\n      <td>45.338400</td>\n      <td>20.104600</td>\n      <td>73.774200</td>\n      <td>93152.503000</td>\n      <td>2.396400</td>\n      <td>1.937938</td>\n      <td>1.881000</td>\n      <td>56.498800</td>\n      <td>0.096000</td>\n      <td>0.104400</td>\n      <td>0.06040</td>\n      <td>0.596800</td>\n      <td>0.294000</td>\n    </tr>\n    <tr>\n      <th>std</th>\n      <td>1443.520003</td>\n      <td>11.463166</td>\n      <td>11.467954</td>\n      <td>46.033729</td>\n      <td>2121.852197</td>\n      <td>1.147663</td>\n      <td>1.747659</td>\n      <td>0.839869</td>\n      <td>101.713802</td>\n      <td>0.294621</td>\n      <td>0.305809</td>\n      <td>0.23825</td>\n      <td>0.490589</td>\n      <td>0.455637</td>\n    </tr>\n    <tr>\n      <th>min</th>\n      <td>1.000000</td>\n      <td>23.000000</td>\n      <td>-3.000000</td>\n      <td>8.000000</td>\n      <td>9307.000000</td>\n      <td>1.000000</td>\n      <td>0.000000</td>\n      <td>1.000000</td>\n      <td>0.000000</td>\n      <td>0.000000</td>\n      <td>0.000000</td>\n      <td>0.00000</td>\n      <td>0.000000</td>\n      <td>0.000000</td>\n    </tr>\n    <tr>\n      <th>25%</th>\n      <td>1250.750000</td>\n      <td>35.000000</td>\n      <td>10.000000</td>\n      <td>39.000000</td>\n      <td>91911.000000</td>\n      <td>1.000000</td>\n      <td>0.700000</td>\n      <td>1.000000</td>\n      <td>0.000000</td>\n      <td>0.000000</td>\n      <td>0.000000</td>\n      <td>0.00000</td>\n      <td>0.000000</td>\n      <td>0.000000</td>\n    </tr>\n    <tr>\n      <th>50%</th>\n      <td>2500.500000</td>\n      <td>45.000000</td>\n      <td>20.000000</td>\n      <td>64.000000</td>\n      <td>93437.000000</td>\n      <td>2.000000</td>\n      <td>1.500000</td>\n      <td>2.000000</td>\n      <td>0.000000</td>\n      <td>0.000000</td>\n      <td>0.000000</td>\n      <td>0.00000</td>\n      <td>1.000000</td>\n      <td>0.000000</td>\n    </tr>\n    <tr>\n      <th>75%</th>\n      <td>3750.250000</td>\n      <td>55.000000</td>\n      <td>30.000000</td>\n      <td>98.000000</td>\n      <td>94608.000000</td>\n      <td>3.000000</td>\n      <td>2.500000</td>\n      <td>3.000000</td>\n      <td>101.000000</td>\n      <td>0.000000</td>\n      <td>0.000000</td>\n      <td>0.00000</td>\n      <td>1.000000</td>\n      <td>1.000000</td>\n    </tr>\n    <tr>\n      <th>max</th>\n      <td>5000.000000</td>\n      <td>67.000000</td>\n      <td>43.000000</td>\n      <td>224.000000</td>\n      <td>96651.000000</td>\n      <td>4.000000</td>\n      <td>10.000000</td>\n      <td>3.000000</td>\n      <td>635.000000</td>\n      <td>1.000000</td>\n      <td>1.000000</td>\n      <td>1.00000</td>\n      <td>1.000000</td>\n      <td>1.000000</td>\n    </tr>\n  </tbody>\n</table>\n</div>"
          },
          "metadata": {}
        }
      ]
    },
    {
      "metadata": {
        "trusted": true
      },
      "cell_type": "code",
      "source": "def fixExperience(value):\n    if value<0:\n        return 0\n    else:\n        return value\nbankdata['Experience']=bankdata.apply(lambda row:fixExperience(row['Experience']), axis=1)",
      "execution_count": 69,
      "outputs": []
    },
    {
      "metadata": {
        "trusted": true
      },
      "cell_type": "code",
      "source": "bankdata.describe()",
      "execution_count": 70,
      "outputs": [
        {
          "output_type": "execute_result",
          "execution_count": 70,
          "data": {
            "text/plain": "                ID          Age   Experience       Income      ZIP Code  \\\ncount  5000.000000  5000.000000  5000.000000  5000.000000   5000.000000   \nmean   2500.500000    45.338400    20.119600    73.774200  93152.503000   \nstd    1443.520003    11.463166    11.440484    46.033729   2121.852197   \nmin       1.000000    23.000000     0.000000     8.000000   9307.000000   \n25%    1250.750000    35.000000    10.000000    39.000000  91911.000000   \n50%    2500.500000    45.000000    20.000000    64.000000  93437.000000   \n75%    3750.250000    55.000000    30.000000    98.000000  94608.000000   \nmax    5000.000000    67.000000    43.000000   224.000000  96651.000000   \n\n            Family        CCAvg    Education     Mortgage  Personal Loan  \\\ncount  5000.000000  5000.000000  5000.000000  5000.000000    5000.000000   \nmean      2.396400     1.937938     1.881000    56.498800       0.096000   \nstd       1.147663     1.747659     0.839869   101.713802       0.294621   \nmin       1.000000     0.000000     1.000000     0.000000       0.000000   \n25%       1.000000     0.700000     1.000000     0.000000       0.000000   \n50%       2.000000     1.500000     2.000000     0.000000       0.000000   \n75%       3.000000     2.500000     3.000000   101.000000       0.000000   \nmax       4.000000    10.000000     3.000000   635.000000       1.000000   \n\n       Securities Account  CD Account       Online   CreditCard  \ncount         5000.000000  5000.00000  5000.000000  5000.000000  \nmean             0.104400     0.06040     0.596800     0.294000  \nstd              0.305809     0.23825     0.490589     0.455637  \nmin              0.000000     0.00000     0.000000     0.000000  \n25%              0.000000     0.00000     0.000000     0.000000  \n50%              0.000000     0.00000     1.000000     0.000000  \n75%              0.000000     0.00000     1.000000     1.000000  \nmax              1.000000     1.00000     1.000000     1.000000  ",
            "text/html": "<div>\n<style scoped>\n    .dataframe tbody tr th:only-of-type {\n        vertical-align: middle;\n    }\n\n    .dataframe tbody tr th {\n        vertical-align: top;\n    }\n\n    .dataframe thead th {\n        text-align: right;\n    }\n</style>\n<table border=\"1\" class=\"dataframe\">\n  <thead>\n    <tr style=\"text-align: right;\">\n      <th></th>\n      <th>ID</th>\n      <th>Age</th>\n      <th>Experience</th>\n      <th>Income</th>\n      <th>ZIP Code</th>\n      <th>Family</th>\n      <th>CCAvg</th>\n      <th>Education</th>\n      <th>Mortgage</th>\n      <th>Personal Loan</th>\n      <th>Securities Account</th>\n      <th>CD Account</th>\n      <th>Online</th>\n      <th>CreditCard</th>\n    </tr>\n  </thead>\n  <tbody>\n    <tr>\n      <th>count</th>\n      <td>5000.000000</td>\n      <td>5000.000000</td>\n      <td>5000.000000</td>\n      <td>5000.000000</td>\n      <td>5000.000000</td>\n      <td>5000.000000</td>\n      <td>5000.000000</td>\n      <td>5000.000000</td>\n      <td>5000.000000</td>\n      <td>5000.000000</td>\n      <td>5000.000000</td>\n      <td>5000.00000</td>\n      <td>5000.000000</td>\n      <td>5000.000000</td>\n    </tr>\n    <tr>\n      <th>mean</th>\n      <td>2500.500000</td>\n      <td>45.338400</td>\n      <td>20.119600</td>\n      <td>73.774200</td>\n      <td>93152.503000</td>\n      <td>2.396400</td>\n      <td>1.937938</td>\n      <td>1.881000</td>\n      <td>56.498800</td>\n      <td>0.096000</td>\n      <td>0.104400</td>\n      <td>0.06040</td>\n      <td>0.596800</td>\n      <td>0.294000</td>\n    </tr>\n    <tr>\n      <th>std</th>\n      <td>1443.520003</td>\n      <td>11.463166</td>\n      <td>11.440484</td>\n      <td>46.033729</td>\n      <td>2121.852197</td>\n      <td>1.147663</td>\n      <td>1.747659</td>\n      <td>0.839869</td>\n      <td>101.713802</td>\n      <td>0.294621</td>\n      <td>0.305809</td>\n      <td>0.23825</td>\n      <td>0.490589</td>\n      <td>0.455637</td>\n    </tr>\n    <tr>\n      <th>min</th>\n      <td>1.000000</td>\n      <td>23.000000</td>\n      <td>0.000000</td>\n      <td>8.000000</td>\n      <td>9307.000000</td>\n      <td>1.000000</td>\n      <td>0.000000</td>\n      <td>1.000000</td>\n      <td>0.000000</td>\n      <td>0.000000</td>\n      <td>0.000000</td>\n      <td>0.00000</td>\n      <td>0.000000</td>\n      <td>0.000000</td>\n    </tr>\n    <tr>\n      <th>25%</th>\n      <td>1250.750000</td>\n      <td>35.000000</td>\n      <td>10.000000</td>\n      <td>39.000000</td>\n      <td>91911.000000</td>\n      <td>1.000000</td>\n      <td>0.700000</td>\n      <td>1.000000</td>\n      <td>0.000000</td>\n      <td>0.000000</td>\n      <td>0.000000</td>\n      <td>0.00000</td>\n      <td>0.000000</td>\n      <td>0.000000</td>\n    </tr>\n    <tr>\n      <th>50%</th>\n      <td>2500.500000</td>\n      <td>45.000000</td>\n      <td>20.000000</td>\n      <td>64.000000</td>\n      <td>93437.000000</td>\n      <td>2.000000</td>\n      <td>1.500000</td>\n      <td>2.000000</td>\n      <td>0.000000</td>\n      <td>0.000000</td>\n      <td>0.000000</td>\n      <td>0.00000</td>\n      <td>1.000000</td>\n      <td>0.000000</td>\n    </tr>\n    <tr>\n      <th>75%</th>\n      <td>3750.250000</td>\n      <td>55.000000</td>\n      <td>30.000000</td>\n      <td>98.000000</td>\n      <td>94608.000000</td>\n      <td>3.000000</td>\n      <td>2.500000</td>\n      <td>3.000000</td>\n      <td>101.000000</td>\n      <td>0.000000</td>\n      <td>0.000000</td>\n      <td>0.00000</td>\n      <td>1.000000</td>\n      <td>1.000000</td>\n    </tr>\n    <tr>\n      <th>max</th>\n      <td>5000.000000</td>\n      <td>67.000000</td>\n      <td>43.000000</td>\n      <td>224.000000</td>\n      <td>96651.000000</td>\n      <td>4.000000</td>\n      <td>10.000000</td>\n      <td>3.000000</td>\n      <td>635.000000</td>\n      <td>1.000000</td>\n      <td>1.000000</td>\n      <td>1.00000</td>\n      <td>1.000000</td>\n      <td>1.000000</td>\n    </tr>\n  </tbody>\n</table>\n</div>"
          },
          "metadata": {}
        }
      ]
    },
    {
      "metadata": {
        "trusted": true
      },
      "cell_type": "code",
      "source": "# Let's drop the Zip code and make ID as index\nbankdata.drop(['ZIP Code'], axis=1, inplace=True)",
      "execution_count": 71,
      "outputs": []
    },
    {
      "metadata": {
        "trusted": true
      },
      "cell_type": "code",
      "source": "bankdata.set_index('ID', inplace=True)\nbankdata.head()",
      "execution_count": 72,
      "outputs": [
        {
          "output_type": "execute_result",
          "execution_count": 72,
          "data": {
            "text/plain": "    Age  Experience  Income  Family  CCAvg  Education  Mortgage  \\\nID                                                                \n1    25         1.0      49       4    1.6          1         0   \n2    45        19.0      34       3    1.5          1         0   \n3    39        15.0      11       1    1.0          1         0   \n4    35         9.0     100       1    2.7          2         0   \n5    35         8.0      45       4    1.0          2         0   \n\n    Personal Loan  Securities Account  CD Account  Online  CreditCard  \nID                                                                     \n1               0                   1           0       0           0  \n2               0                   1           0       0           0  \n3               0                   0           0       0           0  \n4               0                   0           0       0           0  \n5               0                   0           0       0           1  ",
            "text/html": "<div>\n<style scoped>\n    .dataframe tbody tr th:only-of-type {\n        vertical-align: middle;\n    }\n\n    .dataframe tbody tr th {\n        vertical-align: top;\n    }\n\n    .dataframe thead th {\n        text-align: right;\n    }\n</style>\n<table border=\"1\" class=\"dataframe\">\n  <thead>\n    <tr style=\"text-align: right;\">\n      <th></th>\n      <th>Age</th>\n      <th>Experience</th>\n      <th>Income</th>\n      <th>Family</th>\n      <th>CCAvg</th>\n      <th>Education</th>\n      <th>Mortgage</th>\n      <th>Personal Loan</th>\n      <th>Securities Account</th>\n      <th>CD Account</th>\n      <th>Online</th>\n      <th>CreditCard</th>\n    </tr>\n    <tr>\n      <th>ID</th>\n      <th></th>\n      <th></th>\n      <th></th>\n      <th></th>\n      <th></th>\n      <th></th>\n      <th></th>\n      <th></th>\n      <th></th>\n      <th></th>\n      <th></th>\n      <th></th>\n    </tr>\n  </thead>\n  <tbody>\n    <tr>\n      <th>1</th>\n      <td>25</td>\n      <td>1.0</td>\n      <td>49</td>\n      <td>4</td>\n      <td>1.6</td>\n      <td>1</td>\n      <td>0</td>\n      <td>0</td>\n      <td>1</td>\n      <td>0</td>\n      <td>0</td>\n      <td>0</td>\n    </tr>\n    <tr>\n      <th>2</th>\n      <td>45</td>\n      <td>19.0</td>\n      <td>34</td>\n      <td>3</td>\n      <td>1.5</td>\n      <td>1</td>\n      <td>0</td>\n      <td>0</td>\n      <td>1</td>\n      <td>0</td>\n      <td>0</td>\n      <td>0</td>\n    </tr>\n    <tr>\n      <th>3</th>\n      <td>39</td>\n      <td>15.0</td>\n      <td>11</td>\n      <td>1</td>\n      <td>1.0</td>\n      <td>1</td>\n      <td>0</td>\n      <td>0</td>\n      <td>0</td>\n      <td>0</td>\n      <td>0</td>\n      <td>0</td>\n    </tr>\n    <tr>\n      <th>4</th>\n      <td>35</td>\n      <td>9.0</td>\n      <td>100</td>\n      <td>1</td>\n      <td>2.7</td>\n      <td>2</td>\n      <td>0</td>\n      <td>0</td>\n      <td>0</td>\n      <td>0</td>\n      <td>0</td>\n      <td>0</td>\n    </tr>\n    <tr>\n      <th>5</th>\n      <td>35</td>\n      <td>8.0</td>\n      <td>45</td>\n      <td>4</td>\n      <td>1.0</td>\n      <td>2</td>\n      <td>0</td>\n      <td>0</td>\n      <td>0</td>\n      <td>0</td>\n      <td>0</td>\n      <td>1</td>\n    </tr>\n  </tbody>\n</table>\n</div>"
          },
          "metadata": {}
        }
      ]
    },
    {
      "metadata": {
        "trusted": true
      },
      "cell_type": "code",
      "source": "bankdata.tail()",
      "execution_count": 73,
      "outputs": [
        {
          "output_type": "execute_result",
          "execution_count": 73,
          "data": {
            "text/plain": "      Age  Experience  Income  Family  CCAvg  Education  Mortgage  \\\nID                                                                  \n4996   29         3.0      40       1    1.9          3         0   \n4997   30         4.0      15       4    0.4          1        85   \n4998   63        39.0      24       2    0.3          3         0   \n4999   65        40.0      49       3    0.5          2         0   \n5000   28         4.0      83       3    0.8          1         0   \n\n      Personal Loan  Securities Account  CD Account  Online  CreditCard  \nID                                                                       \n4996              0                   0           0       1           0  \n4997              0                   0           0       1           0  \n4998              0                   0           0       0           0  \n4999              0                   0           0       1           0  \n5000              0                   0           0       1           1  ",
            "text/html": "<div>\n<style scoped>\n    .dataframe tbody tr th:only-of-type {\n        vertical-align: middle;\n    }\n\n    .dataframe tbody tr th {\n        vertical-align: top;\n    }\n\n    .dataframe thead th {\n        text-align: right;\n    }\n</style>\n<table border=\"1\" class=\"dataframe\">\n  <thead>\n    <tr style=\"text-align: right;\">\n      <th></th>\n      <th>Age</th>\n      <th>Experience</th>\n      <th>Income</th>\n      <th>Family</th>\n      <th>CCAvg</th>\n      <th>Education</th>\n      <th>Mortgage</th>\n      <th>Personal Loan</th>\n      <th>Securities Account</th>\n      <th>CD Account</th>\n      <th>Online</th>\n      <th>CreditCard</th>\n    </tr>\n    <tr>\n      <th>ID</th>\n      <th></th>\n      <th></th>\n      <th></th>\n      <th></th>\n      <th></th>\n      <th></th>\n      <th></th>\n      <th></th>\n      <th></th>\n      <th></th>\n      <th></th>\n      <th></th>\n    </tr>\n  </thead>\n  <tbody>\n    <tr>\n      <th>4996</th>\n      <td>29</td>\n      <td>3.0</td>\n      <td>40</td>\n      <td>1</td>\n      <td>1.9</td>\n      <td>3</td>\n      <td>0</td>\n      <td>0</td>\n      <td>0</td>\n      <td>0</td>\n      <td>1</td>\n      <td>0</td>\n    </tr>\n    <tr>\n      <th>4997</th>\n      <td>30</td>\n      <td>4.0</td>\n      <td>15</td>\n      <td>4</td>\n      <td>0.4</td>\n      <td>1</td>\n      <td>85</td>\n      <td>0</td>\n      <td>0</td>\n      <td>0</td>\n      <td>1</td>\n      <td>0</td>\n    </tr>\n    <tr>\n      <th>4998</th>\n      <td>63</td>\n      <td>39.0</td>\n      <td>24</td>\n      <td>2</td>\n      <td>0.3</td>\n      <td>3</td>\n      <td>0</td>\n      <td>0</td>\n      <td>0</td>\n      <td>0</td>\n      <td>0</td>\n      <td>0</td>\n    </tr>\n    <tr>\n      <th>4999</th>\n      <td>65</td>\n      <td>40.0</td>\n      <td>49</td>\n      <td>3</td>\n      <td>0.5</td>\n      <td>2</td>\n      <td>0</td>\n      <td>0</td>\n      <td>0</td>\n      <td>0</td>\n      <td>1</td>\n      <td>0</td>\n    </tr>\n    <tr>\n      <th>5000</th>\n      <td>28</td>\n      <td>4.0</td>\n      <td>83</td>\n      <td>3</td>\n      <td>0.8</td>\n      <td>1</td>\n      <td>0</td>\n      <td>0</td>\n      <td>0</td>\n      <td>0</td>\n      <td>1</td>\n      <td>1</td>\n    </tr>\n  </tbody>\n</table>\n</div>"
          },
          "metadata": {}
        }
      ]
    },
    {
      "metadata": {
        "trusted": true
      },
      "cell_type": "code",
      "source": "bankdata = pd.get_dummies(bankdata, columns=['Education'], drop_first=True)\nbankdata.head()",
      "execution_count": 74,
      "outputs": [
        {
          "output_type": "execute_result",
          "execution_count": 74,
          "data": {
            "text/plain": "    Age  Experience  Income  Family  CCAvg  Mortgage  Personal Loan  \\\nID                                                                    \n1    25         1.0      49       4    1.6         0              0   \n2    45        19.0      34       3    1.5         0              0   \n3    39        15.0      11       1    1.0         0              0   \n4    35         9.0     100       1    2.7         0              0   \n5    35         8.0      45       4    1.0         0              0   \n\n    Securities Account  CD Account  Online  CreditCard  Education_2  \\\nID                                                                    \n1                    1           0       0           0            0   \n2                    1           0       0           0            0   \n3                    0           0       0           0            0   \n4                    0           0       0           0            1   \n5                    0           0       0           1            1   \n\n    Education_3  \nID               \n1             0  \n2             0  \n3             0  \n4             0  \n5             0  ",
            "text/html": "<div>\n<style scoped>\n    .dataframe tbody tr th:only-of-type {\n        vertical-align: middle;\n    }\n\n    .dataframe tbody tr th {\n        vertical-align: top;\n    }\n\n    .dataframe thead th {\n        text-align: right;\n    }\n</style>\n<table border=\"1\" class=\"dataframe\">\n  <thead>\n    <tr style=\"text-align: right;\">\n      <th></th>\n      <th>Age</th>\n      <th>Experience</th>\n      <th>Income</th>\n      <th>Family</th>\n      <th>CCAvg</th>\n      <th>Mortgage</th>\n      <th>Personal Loan</th>\n      <th>Securities Account</th>\n      <th>CD Account</th>\n      <th>Online</th>\n      <th>CreditCard</th>\n      <th>Education_2</th>\n      <th>Education_3</th>\n    </tr>\n    <tr>\n      <th>ID</th>\n      <th></th>\n      <th></th>\n      <th></th>\n      <th></th>\n      <th></th>\n      <th></th>\n      <th></th>\n      <th></th>\n      <th></th>\n      <th></th>\n      <th></th>\n      <th></th>\n      <th></th>\n    </tr>\n  </thead>\n  <tbody>\n    <tr>\n      <th>1</th>\n      <td>25</td>\n      <td>1.0</td>\n      <td>49</td>\n      <td>4</td>\n      <td>1.6</td>\n      <td>0</td>\n      <td>0</td>\n      <td>1</td>\n      <td>0</td>\n      <td>0</td>\n      <td>0</td>\n      <td>0</td>\n      <td>0</td>\n    </tr>\n    <tr>\n      <th>2</th>\n      <td>45</td>\n      <td>19.0</td>\n      <td>34</td>\n      <td>3</td>\n      <td>1.5</td>\n      <td>0</td>\n      <td>0</td>\n      <td>1</td>\n      <td>0</td>\n      <td>0</td>\n      <td>0</td>\n      <td>0</td>\n      <td>0</td>\n    </tr>\n    <tr>\n      <th>3</th>\n      <td>39</td>\n      <td>15.0</td>\n      <td>11</td>\n      <td>1</td>\n      <td>1.0</td>\n      <td>0</td>\n      <td>0</td>\n      <td>0</td>\n      <td>0</td>\n      <td>0</td>\n      <td>0</td>\n      <td>0</td>\n      <td>0</td>\n    </tr>\n    <tr>\n      <th>4</th>\n      <td>35</td>\n      <td>9.0</td>\n      <td>100</td>\n      <td>1</td>\n      <td>2.7</td>\n      <td>0</td>\n      <td>0</td>\n      <td>0</td>\n      <td>0</td>\n      <td>0</td>\n      <td>0</td>\n      <td>1</td>\n      <td>0</td>\n    </tr>\n    <tr>\n      <th>5</th>\n      <td>35</td>\n      <td>8.0</td>\n      <td>45</td>\n      <td>4</td>\n      <td>1.0</td>\n      <td>0</td>\n      <td>0</td>\n      <td>0</td>\n      <td>0</td>\n      <td>0</td>\n      <td>1</td>\n      <td>1</td>\n      <td>0</td>\n    </tr>\n  </tbody>\n</table>\n</div>"
          },
          "metadata": {}
        }
      ]
    },
    {
      "metadata": {
        "trusted": true
      },
      "cell_type": "code",
      "source": "bankdata.rename(columns={'Education_2':'GradDeg', 'Education_3':'AdvDeg'}, inplace=True)\nbankdata.head()",
      "execution_count": 75,
      "outputs": [
        {
          "output_type": "execute_result",
          "execution_count": 75,
          "data": {
            "text/plain": "    Age  Experience  Income  Family  CCAvg  Mortgage  Personal Loan  \\\nID                                                                    \n1    25         1.0      49       4    1.6         0              0   \n2    45        19.0      34       3    1.5         0              0   \n3    39        15.0      11       1    1.0         0              0   \n4    35         9.0     100       1    2.7         0              0   \n5    35         8.0      45       4    1.0         0              0   \n\n    Securities Account  CD Account  Online  CreditCard  GradDeg  AdvDeg  \nID                                                                       \n1                    1           0       0           0        0       0  \n2                    1           0       0           0        0       0  \n3                    0           0       0           0        0       0  \n4                    0           0       0           0        1       0  \n5                    0           0       0           1        1       0  ",
            "text/html": "<div>\n<style scoped>\n    .dataframe tbody tr th:only-of-type {\n        vertical-align: middle;\n    }\n\n    .dataframe tbody tr th {\n        vertical-align: top;\n    }\n\n    .dataframe thead th {\n        text-align: right;\n    }\n</style>\n<table border=\"1\" class=\"dataframe\">\n  <thead>\n    <tr style=\"text-align: right;\">\n      <th></th>\n      <th>Age</th>\n      <th>Experience</th>\n      <th>Income</th>\n      <th>Family</th>\n      <th>CCAvg</th>\n      <th>Mortgage</th>\n      <th>Personal Loan</th>\n      <th>Securities Account</th>\n      <th>CD Account</th>\n      <th>Online</th>\n      <th>CreditCard</th>\n      <th>GradDeg</th>\n      <th>AdvDeg</th>\n    </tr>\n    <tr>\n      <th>ID</th>\n      <th></th>\n      <th></th>\n      <th></th>\n      <th></th>\n      <th></th>\n      <th></th>\n      <th></th>\n      <th></th>\n      <th></th>\n      <th></th>\n      <th></th>\n      <th></th>\n      <th></th>\n    </tr>\n  </thead>\n  <tbody>\n    <tr>\n      <th>1</th>\n      <td>25</td>\n      <td>1.0</td>\n      <td>49</td>\n      <td>4</td>\n      <td>1.6</td>\n      <td>0</td>\n      <td>0</td>\n      <td>1</td>\n      <td>0</td>\n      <td>0</td>\n      <td>0</td>\n      <td>0</td>\n      <td>0</td>\n    </tr>\n    <tr>\n      <th>2</th>\n      <td>45</td>\n      <td>19.0</td>\n      <td>34</td>\n      <td>3</td>\n      <td>1.5</td>\n      <td>0</td>\n      <td>0</td>\n      <td>1</td>\n      <td>0</td>\n      <td>0</td>\n      <td>0</td>\n      <td>0</td>\n      <td>0</td>\n    </tr>\n    <tr>\n      <th>3</th>\n      <td>39</td>\n      <td>15.0</td>\n      <td>11</td>\n      <td>1</td>\n      <td>1.0</td>\n      <td>0</td>\n      <td>0</td>\n      <td>0</td>\n      <td>0</td>\n      <td>0</td>\n      <td>0</td>\n      <td>0</td>\n      <td>0</td>\n    </tr>\n    <tr>\n      <th>4</th>\n      <td>35</td>\n      <td>9.0</td>\n      <td>100</td>\n      <td>1</td>\n      <td>2.7</td>\n      <td>0</td>\n      <td>0</td>\n      <td>0</td>\n      <td>0</td>\n      <td>0</td>\n      <td>0</td>\n      <td>1</td>\n      <td>0</td>\n    </tr>\n    <tr>\n      <th>5</th>\n      <td>35</td>\n      <td>8.0</td>\n      <td>45</td>\n      <td>4</td>\n      <td>1.0</td>\n      <td>0</td>\n      <td>0</td>\n      <td>0</td>\n      <td>0</td>\n      <td>0</td>\n      <td>1</td>\n      <td>1</td>\n      <td>0</td>\n    </tr>\n  </tbody>\n</table>\n</div>"
          },
          "metadata": {}
        }
      ]
    },
    {
      "metadata": {
        "trusted": true
      },
      "cell_type": "code",
      "source": "from sklearn.model_selection import train_test_split\nx_vars = bankdata.drop('Personal Loan', axis=1)\ny_vars=bankdata['Personal Loan']",
      "execution_count": 76,
      "outputs": []
    },
    {
      "metadata": {
        "trusted": true
      },
      "cell_type": "code",
      "source": "xTrain, xValid, yTrain, yValid=train_test_split(x_vars, y_vars, test_size=0.25, random_state=42)",
      "execution_count": 77,
      "outputs": []
    },
    {
      "metadata": {
        "trusted": true
      },
      "cell_type": "code",
      "source": "from sklearn.linear_model import LogisticRegression\nLogitModel = LogisticRegression()\nLogitModel.fit(xTrain, yTrain)",
      "execution_count": 78,
      "outputs": [
        {
          "output_type": "execute_result",
          "execution_count": 78,
          "data": {
            "text/plain": "LogisticRegression()"
          },
          "metadata": {}
        }
      ]
    },
    {
      "metadata": {
        "trusted": true
      },
      "cell_type": "code",
      "source": "from sklearn.metrics import accuracy_score, confusion_matrix\ny_pred= LogitModel.predict(xValid)",
      "execution_count": 79,
      "outputs": []
    },
    {
      "metadata": {
        "trusted": true
      },
      "cell_type": "code",
      "source": "y_pred",
      "execution_count": 80,
      "outputs": [
        {
          "output_type": "execute_result",
          "execution_count": 80,
          "data": {
            "text/plain": "array([0, 0, 0, ..., 0, 0, 0], dtype=int64)"
          },
          "metadata": {}
        }
      ]
    },
    {
      "metadata": {
        "trusted": true
      },
      "cell_type": "code",
      "source": "accuracy_score(yValid, y_pred)",
      "execution_count": 81,
      "outputs": [
        {
          "output_type": "execute_result",
          "execution_count": 81,
          "data": {
            "text/plain": "0.96"
          },
          "metadata": {}
        }
      ]
    },
    {
      "metadata": {
        "trusted": true
      },
      "cell_type": "code",
      "source": "from sklearn.metrics import confusion_matrix\nconfusion_matrix(yValid, y_pred)",
      "execution_count": 94,
      "outputs": [
        {
          "output_type": "execute_result",
          "execution_count": 94,
          "data": {
            "text/plain": "array([[1107,    9],\n       [  41,   93]], dtype=int64)"
          },
          "metadata": {}
        }
      ]
    }
  ],
  "metadata": {
    "kernelspec": {
      "name": "python3",
      "display_name": "Python 3",
      "language": "python"
    },
    "language_info": {
      "name": "python",
      "version": "3.8.3",
      "mimetype": "text/x-python",
      "codemirror_mode": {
        "name": "ipython",
        "version": 3
      },
      "pygments_lexer": "ipython3",
      "nbconvert_exporter": "python",
      "file_extension": ".py"
    },
    "gist": {
      "id": "",
      "data": {
        "description": "Desktop/Logistic Regression/UniversalBank-Logistic regression.ipynb",
        "public": true
      }
    }
  },
  "nbformat": 4,
  "nbformat_minor": 4
}